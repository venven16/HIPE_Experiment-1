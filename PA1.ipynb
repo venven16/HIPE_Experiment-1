{
 "cells": [
  {
   "cell_type": "markdown",
   "metadata": {},
   "source": [
    "# FIRST PA FOR ADVANCED COMPROG\n"
   ]
  },
  {
   "cell_type": "code",
   "execution_count": 20,
   "metadata": {},
   "outputs": [
    {
     "name": "stdout",
     "output_type": "stream",
     "text": [
      "ehllo\n",
      "acehkr\n"
     ]
    }
   ],
   "source": [
    "# Start\n",
    "def alphabet_soup(s):\n",
    "    return ''.join(sorted(s))\n",
    "\n",
    "# Output\n",
    "print(alphabet_soup(\"hello\"))  # Output: ehllo\n",
    "print(alphabet_soup(\"hacker\")) # Output: acehkr\n"
   ]
  },
  {
   "cell_type": "code",
   "execution_count": 27,
   "metadata": {},
   "outputs": [
    {
     "name": "stdout",
     "output_type": "stream",
     "text": [
      "Make me :)\n",
      "I am >:(\n"
     ]
    }
   ],
   "source": [
    "# Start\n",
    "def emotify(sentence): \n",
    "    # Dictionary for mapping words to their corresponding emoticons \n",
    "    emoticon_map = {\"smile\": \":)\", \"Grin\": \":D\", \"sad\": \":((\", \"mad\": \">:(\"}\n",
    "    \n",
    "    # Splitting the sentences into words \n",
    "    words = sentence.split()\n",
    "    \n",
    "    # Replace the words with emoticons \n",
    "    output = [emoticon_map[word] if word in emoticon_map else word for word in words]\n",
    "    \n",
    "    # Retrurning the the words back into a sentence \n",
    "    return ' '.join(output) \n",
    "\n",
    "# Output\n",
    "print(emotify(\"Make me smile\")) # Output: Make me :)\n",
    "print(emotify(\"I am mad\")) # Output: I am >:("
   ]
  },
  {
   "cell_type": "code",
   "execution_count": 46,
   "metadata": {},
   "outputs": [
    {
     "name": "stdout",
     "output_type": "stream",
     "text": [
      "Example: 1st = [1, 2, 3, 4, 5, 6]\n",
      "\n",
      "first: 1     middle: [2, 3, 4, 5]    last: 6\n"
     ]
    }
   ],
   "source": [
    "# Start\n",
    "\n",
    "# Listing the variables \n",
    "writeyourcodehere = [1, 2, 3, 4, 5, 6] \n",
    "\n",
    "# Unpacking the varibles into first, middle and last\n",
    "first, *middle, last = writeyourcodehere\n",
    "\n",
    "# Example \n",
    "print(\"Example: 1st = [1, 2, 3, 4, 5, 6]\")  \n",
    "print()\n",
    "\n",
    "# Output \n",
    "print(\"first:\", first, end=\"     \") # Output: 1\n",
    "print(\"middle:\", middle, end=\"    \") # Output: 2,3,4,5\n",
    "print(\"last:\", last) # Output: 6"
   ]
  },
  {
   "cell_type": "code",
   "execution_count": null,
   "metadata": {},
   "outputs": [],
   "source": []
  }
 ],
 "metadata": {
  "kernelspec": {
   "display_name": "Python 3",
   "language": "python",
   "name": "python3"
  },
  "language_info": {
   "codemirror_mode": {
    "name": "ipython",
    "version": 3
   },
   "file_extension": ".py",
   "mimetype": "text/x-python",
   "name": "python",
   "nbconvert_exporter": "python",
   "pygments_lexer": "ipython3",
   "version": "3.9.6"
  }
 },
 "nbformat": 4,
 "nbformat_minor": 2
}
